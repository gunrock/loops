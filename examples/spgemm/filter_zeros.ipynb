{
 "cells": [
  {
   "cell_type": "code",
   "execution_count": 14,
   "metadata": {},
   "outputs": [],
   "source": [
    "import scipy.io\n",
    "import scipy.sparse\n",
    "\n",
    "import os\n",
    "from pathlib import Path\n"
   ]
  },
  {
   "cell_type": "code",
   "execution_count": 7,
   "metadata": {},
   "outputs": [],
   "source": [
    "\n",
    "\n",
    "def remove_zeros_and_save(input_file, output_file):\n",
    "    matrix = scipy.io.mmread(input_file)\n",
    "\n",
    "    rows, cols, data = zip(*[(r, c, d) for r, c, d in zip(matrix.row, matrix.col, matrix.data) if d != 0])\n",
    "\n",
    "    filtered_matrix = scipy.sparse.coo_matrix((data, (rows, cols)), shape=matrix.shape)\n",
    "\n",
    "    scipy.io.mmwrite(output_file, filtered_matrix)"
   ]
  },
  {
   "cell_type": "code",
   "execution_count": 9,
   "metadata": {},
   "outputs": [
    {
     "name": "stdout",
     "output_type": "stream",
     "text": [
      "Processed matrix saved to /home/ychenfei/research/libs/loops/datasets/filtered_zeros/rma10.mtx\n"
     ]
    }
   ],
   "source": [
    "remove_zeros_and_save('/data/toodemuy/datasets/floridaMatrices/rma10.mtx','/home/ychenfei/research/libs/loops/datasets/filtered_zeros/rma10.mtx')\n",
    "print(f\"Processed matrix saved to {'/home/ychenfei/research/libs/loops/datasets/filtered_zeros/rma10.mtx'}\")\n"
   ]
  },
  {
   "cell_type": "code",
   "execution_count": null,
   "metadata": {},
   "outputs": [],
   "source": [
    "remove_zeros_and_save(input_file, output_file)"
   ]
  },
  {
   "cell_type": "code",
   "execution_count": 22,
   "metadata": {},
   "outputs": [],
   "source": [
    "def filter_zero_in_bulk(dir):\n",
    "    path = Path(str(dir))\n",
    "    for file in path.iterdir():\n",
    "        # print(str(file))\n",
    "        file = str(file)\n",
    "        if file.endswith(\".mtx\"):\n",
    "            new_file = '/home/ychenfei/research/libs/loops/datasets/filtered_zeros/'+os.path.basename(file)\n",
    "            # print(new_file)\n",
    "            remove_zeros_and_save(file,new_file)"
   ]
  },
  {
   "cell_type": "code",
   "execution_count": 23,
   "metadata": {},
   "outputs": [],
   "source": [
    "filter_zero_in_bulk('/data/toodemuy/datasets/floridaMatrices/')"
   ]
  }
 ],
 "metadata": {
  "kernelspec": {
   "display_name": "Python 3",
   "language": "python",
   "name": "python3"
  },
  "language_info": {
   "codemirror_mode": {
    "name": "ipython",
    "version": 3
   },
   "file_extension": ".py",
   "mimetype": "text/x-python",
   "name": "python",
   "nbconvert_exporter": "python",
   "pygments_lexer": "ipython3",
   "version": "3.10.6"
  }
 },
 "nbformat": 4,
 "nbformat_minor": 2
}
